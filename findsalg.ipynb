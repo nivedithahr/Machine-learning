{
 "cells": [
  {
   "cell_type": "code",
   "execution_count": null,
   "id": "77277978",
   "metadata": {},
   "outputs": [],
   "source": []
  },
  {
   "cell_type": "code",
   "execution_count": 34,
   "id": "76913937",
   "metadata": {},
   "outputs": [
    {
     "data": {
      "text/html": [
       "<div>\n",
       "<style scoped>\n",
       "    .dataframe tbody tr th:only-of-type {\n",
       "        vertical-align: middle;\n",
       "    }\n",
       "\n",
       "    .dataframe tbody tr th {\n",
       "        vertical-align: top;\n",
       "    }\n",
       "\n",
       "    .dataframe thead th {\n",
       "        text-align: right;\n",
       "    }\n",
       "</style>\n",
       "<table border=\"1\" class=\"dataframe\">\n",
       "  <thead>\n",
       "    <tr style=\"text-align: right;\">\n",
       "      <th></th>\n",
       "      <th>eyes</th>\n",
       "      <th>nose</th>\n",
       "      <th>head</th>\n",
       "      <th>fcolor</th>\n",
       "      <th>hair</th>\n",
       "      <th>smile</th>\n",
       "    </tr>\n",
       "  </thead>\n",
       "  <tbody>\n",
       "    <tr>\n",
       "      <th>0</th>\n",
       "      <td>round</td>\n",
       "      <td>triangle</td>\n",
       "      <td>circle</td>\n",
       "      <td>purple</td>\n",
       "      <td>yes</td>\n",
       "      <td>yes</td>\n",
       "    </tr>\n",
       "    <tr>\n",
       "      <th>1</th>\n",
       "      <td>square</td>\n",
       "      <td>square</td>\n",
       "      <td>square</td>\n",
       "      <td>green</td>\n",
       "      <td>yes</td>\n",
       "      <td>no</td>\n",
       "    </tr>\n",
       "    <tr>\n",
       "      <th>2</th>\n",
       "      <td>square</td>\n",
       "      <td>triangle</td>\n",
       "      <td>circle</td>\n",
       "      <td>yellow</td>\n",
       "      <td>yes</td>\n",
       "      <td>yes</td>\n",
       "    </tr>\n",
       "    <tr>\n",
       "      <th>3</th>\n",
       "      <td>round</td>\n",
       "      <td>triangle</td>\n",
       "      <td>circle</td>\n",
       "      <td>green</td>\n",
       "      <td>no</td>\n",
       "      <td>no</td>\n",
       "    </tr>\n",
       "    <tr>\n",
       "      <th>4</th>\n",
       "      <td>square</td>\n",
       "      <td>square</td>\n",
       "      <td>circle</td>\n",
       "      <td>yellow</td>\n",
       "      <td>yes</td>\n",
       "      <td>yes</td>\n",
       "    </tr>\n",
       "  </tbody>\n",
       "</table>\n",
       "</div>"
      ],
      "text/plain": [
       "     eyes      nose    head  fcolor hair smile\n",
       "0   round  triangle  circle  purple  yes   yes\n",
       "1  square    square  square   green  yes    no\n",
       "2  square  triangle  circle  yellow  yes   yes\n",
       "3   round  triangle  circle   green   no    no\n",
       "4  square    square  circle  yellow  yes   yes"
      ]
     },
     "execution_count": 34,
     "metadata": {},
     "output_type": "execute_result"
    }
   ],
   "source": [
    "import pandas as pd\n",
    "import numpy as np\n",
    "data = pd.read_csv('finds2.csv - finds2.csv.csv')\n",
    "data\n"
   ]
  },
  {
   "cell_type": "code",
   "execution_count": 35,
   "id": "9e75148e",
   "metadata": {},
   "outputs": [
    {
     "data": {
      "text/plain": [
       "array([['round', 'triangle', 'circle', 'purple', 'yes'],\n",
       "       ['square', 'square', 'square', 'green', 'yes'],\n",
       "       ['square', 'triangle', 'circle', 'yellow', 'yes'],\n",
       "       ['round', 'triangle', 'circle', 'green', 'no'],\n",
       "       ['square', 'square', 'circle', 'yellow', 'yes']], dtype=object)"
      ]
     },
     "execution_count": 35,
     "metadata": {},
     "output_type": "execute_result"
    }
   ],
   "source": [
    "concepts = np.array(data)[:,:-1]\n",
    "concepts"
   ]
  },
  {
   "cell_type": "code",
   "execution_count": 36,
   "id": "6056d8e5",
   "metadata": {},
   "outputs": [
    {
     "data": {
      "text/plain": [
       "array(['yes', 'no', 'yes', 'no', 'yes'], dtype=object)"
      ]
     },
     "execution_count": 36,
     "metadata": {},
     "output_type": "execute_result"
    }
   ],
   "source": [
    "targets = np.array(data)[:,-1]\n",
    "targets"
   ]
  },
  {
   "cell_type": "code",
   "execution_count": 37,
   "id": "7d30c916",
   "metadata": {},
   "outputs": [],
   "source": [
    "def find_S(con,tar):\n",
    "    for i, val in enumerate(tar):\n",
    "        if val == 'yes':\n",
    "            specific_h = con[i].copy()\n",
    "            break\n",
    "    print(specific_h)\n",
    "    \n",
    "    for i, val in enumerate(con):\n",
    "        if tar[i] == 'yes':\n",
    "            for x in range(len(specific_h)):\n",
    "                if val[x] != specific_h[x]:\n",
    "                    specific_h[x] = '?'\n",
    "                    print(specific_h)\n",
    "                else:\n",
    "                    pass\n",
    "    return specific_h"
   ]
  },
  {
   "cell_type": "code",
   "execution_count": 38,
   "id": "d66e66b4",
   "metadata": {},
   "outputs": [
    {
     "name": "stdout",
     "output_type": "stream",
     "text": [
      "['round' 'triangle' 'circle' 'purple' 'yes']\n",
      "['?' 'triangle' 'circle' 'purple' 'yes']\n",
      "['?' 'triangle' 'circle' '?' 'yes']\n",
      "['?' 'triangle' 'circle' '?' 'yes']\n",
      "['?' '?' 'circle' '?' 'yes']\n",
      "['?' '?' 'circle' '?' 'yes']\n"
     ]
    },
    {
     "data": {
      "text/plain": [
       "array(['?', '?', 'circle', '?', 'yes'], dtype=object)"
      ]
     },
     "execution_count": 38,
     "metadata": {},
     "output_type": "execute_result"
    }
   ],
   "source": [
    "find_S(concepts, targets)"
   ]
  },
  {
   "cell_type": "code",
   "execution_count": null,
   "id": "429f2eb1",
   "metadata": {},
   "outputs": [],
   "source": []
  }
 ],
 "metadata": {
  "kernelspec": {
   "display_name": "Python 3",
   "language": "python",
   "name": "python3"
  },
  "language_info": {
   "codemirror_mode": {
    "name": "ipython",
    "version": 3
   },
   "file_extension": ".py",
   "mimetype": "text/x-python",
   "name": "python",
   "nbconvert_exporter": "python",
   "pygments_lexer": "ipython3",
   "version": "3.8.8"
  }
 },
 "nbformat": 4,
 "nbformat_minor": 5
}
