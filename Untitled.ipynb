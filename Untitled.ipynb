{
 "cells": [
  {
   "cell_type": "code",
   "execution_count": 115,
   "id": "6a9f253d",
   "metadata": {},
   "outputs": [],
   "source": [
    "import math\n",
    "import csv"
   ]
  },
  {
   "cell_type": "code",
   "execution_count": 116,
   "id": "8c844f9e",
   "metadata": {},
   "outputs": [],
   "source": [
    "def load_csv(filename):\n",
    "    lines = csv.reader(open(filename, \"r\"));\n",
    "    dataset = list(lines)\n",
    "    headers = dataset.pop(0)\n",
    "    return dataset, headers"
   ]
  },
  {
   "cell_type": "code",
   "execution_count": 117,
   "id": "909006b2",
   "metadata": {},
   "outputs": [],
   "source": [
    "class Node:\n",
    "    def __init__(self, attribute):\n",
    "        self.attribute = attribute\n",
    "        self.children=[]\n",
    "        self.answer = \"\"\n",
    "        \n",
    "        "
   ]
  },
  {
   "cell_type": "code",
   "execution_count": 118,
   "id": "b14cc611",
   "metadata": {},
   "outputs": [],
   "source": [
    "def subtables(data,col,delete):\n",
    "    dic = {}\n",
    "    coldata = [row[col] for row in data]\n",
    "    attr = list(set(coldata))\n",
    "    \n",
    "    counts = [0] * len(attr)\n",
    "    r = len(data)\n",
    "    c = len(data[0])\n",
    "    for x in range(len(attr)):\n",
    "        for y in range(r):\n",
    "            if data[y][col] == attr[x]:\n",
    "                counts[x]+=1\n",
    "                \n",
    "    for x in range(len(attr)):\n",
    "        dic[attr[x]] =[[0 for i in range(c)] for j in range(counts[x])]\n",
    "        pos = 0\n",
    "        for y in range(r):\n",
    "            if data[y][col] == attr[x]:\n",
    "                if delete:\n",
    "                    del data[y][col]\n",
    "                dic[attr[x]][pos] = data[y]\n",
    "                pos += 1\n",
    "    return attr, dic\n",
    "        "
   ]
  },
  {
   "cell_type": "code",
   "execution_count": 119,
   "id": "8ca91032",
   "metadata": {},
   "outputs": [],
   "source": [
    "def entropy(S):\n",
    "    attr = list(set(S))\n",
    "    if len(attr) == 1:\n",
    "        return 0\n",
    "    \n",
    "    counts =[0,0]\n",
    "    for i in range(2):\n",
    "        counts[i] = sum([1 for x in S if attr[i] == x]) / (len(S) * 1.0)\n",
    "        \n",
    "    sums = 0\n",
    "    for cnt in counts:\n",
    "        sums += -1 * cnt *math.log(cnt,2)\n",
    "    return sums"
   ]
  },
  {
   "cell_type": "code",
   "execution_count": 120,
   "id": "780143b4",
   "metadata": {},
   "outputs": [],
   "source": [
    "def compute_gain(data, col):\n",
    "    attr, dic = subtables(data, col,delete = False)\n",
    "    \n",
    "    total_size = len(data)\n",
    "    entropies = [0] * len(attr)\n",
    "    ratio = [0] * len(attr)\n",
    "    \n",
    "    total_entropy = entropy([row[-1] for row in data])\n",
    "    for x in range(len(attr)):\n",
    "        ratio[x] = len(dic[attr[x]])/(total_size *1.0)\n",
    "        entropies[x] = entropy([row[-1] for row in dic[attr[x]]])\n",
    "        total_entropy -= ratio[x] * entropies[x]\n",
    "    return total_entropy"
   ]
  },
  {
   "cell_type": "code",
   "execution_count": 121,
   "id": "ccc97098",
   "metadata": {},
   "outputs": [],
   "source": [
    "def build_tree(data, features):\n",
    "    lastcol = [row[-1] for row in data]\n",
    "    if(len(set(lastcol))) == 1:\n",
    "        node = Node(\"\")\n",
    "        node.answer = lastcol[0]\n",
    "        return node\n",
    "    \n",
    "    n = len(data[0]) - 1\n",
    "    gains =[0] * n\n",
    "    for col in range(n):\n",
    "        gains[col] = compute_gain(data, col)\n",
    "    split = gains.index(max(gains))\n",
    "    node = Node(features[split])\n",
    "    fea = features[:split] + features[split+1:]\n",
    "    \n",
    "    attr, dic = subtables(data, split, delete=True)\n",
    "    for x in range(len(attr)):\n",
    "        child = build_tree(dic[attr[x]], fea)\n",
    "        node.children.append((attr[x], child))\n",
    "    return node"
   ]
  },
  {
   "cell_type": "code",
   "execution_count": 122,
   "id": "e428a322",
   "metadata": {},
   "outputs": [],
   "source": [
    "def print_tree(node, level):\n",
    "    if node.answer != \"\":\n",
    "        print(\"    \"*level, node.answer)\n",
    "        return\n",
    "    print(\"    \"*level, node.attribute)\n",
    "    for value, n in node.children:\n",
    "        print(\"    \"*(level+1), value)\n",
    "        print_tree(n, level+2)"
   ]
  },
  {
   "cell_type": "code",
   "execution_count": 123,
   "id": "74187746",
   "metadata": {},
   "outputs": [],
   "source": [
    "def classify(node, x_test, features):\n",
    "    if node.answer != \"\":\n",
    "        print(node.answer)\n",
    "        return\n",
    "    pos = features.index(node.attribute)\n",
    "    for value, n in node.children:\n",
    "        if x_test[pos] == value:\n",
    "            classify(n, x_test, features)"
   ]
  },
  {
   "cell_type": "code",
   "execution_count": 124,
   "id": "29c15671",
   "metadata": {},
   "outputs": [
    {
     "ename": "ValueError",
     "evalue": "max() arg is an empty sequence",
     "output_type": "error",
     "traceback": [
      "\u001b[1;31m---------------------------------------------------------------------------\u001b[0m",
      "\u001b[1;31mValueError\u001b[0m                                Traceback (most recent call last)",
      "\u001b[1;32m<ipython-input-124-56c4f08f46f5>\u001b[0m in \u001b[0;36m<module>\u001b[1;34m\u001b[0m\n\u001b[0;32m      1\u001b[0m \u001b[1;34m'''Main Program'''\u001b[0m\u001b[1;33m\u001b[0m\u001b[1;33m\u001b[0m\u001b[0m\n\u001b[0;32m      2\u001b[0m \u001b[0mdataset\u001b[0m\u001b[1;33m,\u001b[0m \u001b[0mfeatures\u001b[0m \u001b[1;33m=\u001b[0m \u001b[0mload_csv\u001b[0m\u001b[1;33m(\u001b[0m\u001b[1;34m\"id3.csv - id3.csv.tsv\"\u001b[0m\u001b[1;33m)\u001b[0m\u001b[1;33m\u001b[0m\u001b[1;33m\u001b[0m\u001b[0m\n\u001b[1;32m----> 3\u001b[1;33m \u001b[0mnode1\u001b[0m \u001b[1;33m=\u001b[0m \u001b[0mbuild_tree\u001b[0m\u001b[1;33m(\u001b[0m\u001b[0mdataset\u001b[0m\u001b[1;33m,\u001b[0m \u001b[0mfeatures\u001b[0m\u001b[1;33m)\u001b[0m\u001b[1;33m\u001b[0m\u001b[1;33m\u001b[0m\u001b[0m\n\u001b[0m\u001b[0;32m      4\u001b[0m \u001b[1;33m\u001b[0m\u001b[0m\n\u001b[0;32m      5\u001b[0m \u001b[0mprint\u001b[0m\u001b[1;33m(\u001b[0m\u001b[1;34m\"The decision tree for the dataset using ID3 algorithm is \"\u001b[0m\u001b[1;33m)\u001b[0m\u001b[1;33m\u001b[0m\u001b[1;33m\u001b[0m\u001b[0m\n",
      "\u001b[1;32m<ipython-input-121-2aeeb8e415e7>\u001b[0m in \u001b[0;36mbuild_tree\u001b[1;34m(data, features)\u001b[0m\n\u001b[0;32m     10\u001b[0m     \u001b[1;32mfor\u001b[0m \u001b[0mcol\u001b[0m \u001b[1;32min\u001b[0m \u001b[0mrange\u001b[0m\u001b[1;33m(\u001b[0m\u001b[0mn\u001b[0m\u001b[1;33m)\u001b[0m\u001b[1;33m:\u001b[0m\u001b[1;33m\u001b[0m\u001b[1;33m\u001b[0m\u001b[0m\n\u001b[0;32m     11\u001b[0m         \u001b[0mgains\u001b[0m\u001b[1;33m[\u001b[0m\u001b[0mcol\u001b[0m\u001b[1;33m]\u001b[0m \u001b[1;33m=\u001b[0m \u001b[0mcompute_gain\u001b[0m\u001b[1;33m(\u001b[0m\u001b[0mdata\u001b[0m\u001b[1;33m,\u001b[0m \u001b[0mcol\u001b[0m\u001b[1;33m)\u001b[0m\u001b[1;33m\u001b[0m\u001b[1;33m\u001b[0m\u001b[0m\n\u001b[1;32m---> 12\u001b[1;33m     \u001b[0msplit\u001b[0m \u001b[1;33m=\u001b[0m \u001b[0mgains\u001b[0m\u001b[1;33m.\u001b[0m\u001b[0mindex\u001b[0m\u001b[1;33m(\u001b[0m\u001b[0mmax\u001b[0m\u001b[1;33m(\u001b[0m\u001b[0mgains\u001b[0m\u001b[1;33m)\u001b[0m\u001b[1;33m)\u001b[0m\u001b[1;33m\u001b[0m\u001b[1;33m\u001b[0m\u001b[0m\n\u001b[0m\u001b[0;32m     13\u001b[0m     \u001b[0mnode\u001b[0m \u001b[1;33m=\u001b[0m \u001b[0mNode\u001b[0m\u001b[1;33m(\u001b[0m\u001b[0mfeatures\u001b[0m\u001b[1;33m[\u001b[0m\u001b[0msplit\u001b[0m\u001b[1;33m]\u001b[0m\u001b[1;33m)\u001b[0m\u001b[1;33m\u001b[0m\u001b[1;33m\u001b[0m\u001b[0m\n\u001b[0;32m     14\u001b[0m     \u001b[0mfea\u001b[0m \u001b[1;33m=\u001b[0m \u001b[0mfeatures\u001b[0m\u001b[1;33m[\u001b[0m\u001b[1;33m:\u001b[0m\u001b[0msplit\u001b[0m\u001b[1;33m]\u001b[0m \u001b[1;33m+\u001b[0m \u001b[0mfeatures\u001b[0m\u001b[1;33m[\u001b[0m\u001b[0msplit\u001b[0m\u001b[1;33m+\u001b[0m\u001b[1;36m1\u001b[0m\u001b[1;33m:\u001b[0m\u001b[1;33m]\u001b[0m\u001b[1;33m\u001b[0m\u001b[1;33m\u001b[0m\u001b[0m\n",
      "\u001b[1;31mValueError\u001b[0m: max() arg is an empty sequence"
     ]
    }
   ],
   "source": [
    "'''Main Program'''\n",
    "dataset, features = load_csv(\"id3.csv - id3.csv.tsv\")\n",
    "node1 = build_tree(dataset, features)\n",
    "\n",
    "print(\"The decision tree for the dataset using ID3 algorithm is \")\n",
    "print_tree(node1, 0)\n",
    "testdata, features = load_csv(\"id3_test.csv - id3_test.csv.tsv\")\n",
    "for xtest in testdata:\n",
    "    print(\"The test instance : \", xtest)\n",
    "    print(\"The label for test instance : \", ends =\" \")\n",
    "    classify(nodel, xtest, features)"
   ]
  }
 ],
 "metadata": {
  "kernelspec": {
   "display_name": "Python 3",
   "language": "python",
   "name": "python3"
  },
  "language_info": {
   "codemirror_mode": {
    "name": "ipython",
    "version": 3
   },
   "file_extension": ".py",
   "mimetype": "text/x-python",
   "name": "python",
   "nbconvert_exporter": "python",
   "pygments_lexer": "ipython3",
   "version": "3.8.8"
  }
 },
 "nbformat": 4,
 "nbformat_minor": 5
}
